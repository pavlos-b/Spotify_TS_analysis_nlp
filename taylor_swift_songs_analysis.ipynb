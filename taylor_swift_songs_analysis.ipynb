{
 "cells": [
  {
   "cell_type": "markdown",
   "id": "99b15846-5d45-4580-9372-29352cb2e8ca",
   "metadata": {},
   "source": [
    "After the presale ticket sales opened for Taylor Swift’s “Eras” tour — her first tour since 2018, a mad rush ensued, leading to “historically unprecedented demand” that snapped up 2 million tickets, the most tickets ever sold for one artist in a day. The aftermath \"Taylor Swift’s Ticketmaster meltdown\" has become a prevalent topic, even taking political dimensions and stimulating bipartisan outrage from some Democrats and Republicans who have questioned whether Ticketmaster handled the Swift ticket rollout appropriately. This whole fiasko was a great opportunity for my beloved gf to introduce me to Taylor's mighty deep and meaningful music and sparked our curiosity to dive a bit deeper into the lyrics. In this Jupyter Notebook, we'll analyze the most commonly used words in all major Taylor's Swift songs released so far. We will then extend our analysis to a few albums which we (basically my gf) deem more important. "
   ]
  },
  {
   "cell_type": "markdown",
   "id": "b29f9154-b11a-4f63-ac0f-3ffe47609cda",
   "metadata": {},
   "source": [
    " "
   ]
  },
  {
   "cell_type": "markdown",
   "id": "62478514-17bd-4bdf-b32e-c93dba7aeb01",
   "metadata": {},
   "source": [
    "First, let’s explore Taylor’s discography with the Spotify API. To do that, we'll connect with spotipy library. "
   ]
  },
  {
   "cell_type": "code",
   "execution_count": 1,
   "id": "1cdd62dd-9488-4435-a773-02366ee42c29",
   "metadata": {},
   "outputs": [],
   "source": [
    "# pip install spotipy"
   ]
  },
  {
   "cell_type": "code",
   "execution_count": 2,
   "id": "ca9e9248-5682-4b0f-af7a-02627cc5f29d",
   "metadata": {},
   "outputs": [],
   "source": [
    "import spotipy"
   ]
  },
  {
   "cell_type": "code",
   "execution_count": 3,
   "id": "1482cc4e-3d79-485a-bca8-c447d5e6c43b",
   "metadata": {},
   "outputs": [],
   "source": [
    "from spotipy.oauth2 import SpotifyOAuth"
   ]
  },
  {
   "cell_type": "code",
   "execution_count": 4,
   "id": "fc1fd4c4-d40b-409e-9c69-3b688c999bb4",
   "metadata": {},
   "outputs": [],
   "source": [
    "#client_id = your_client_id\n",
    "#client_secret = your client_secret\n",
    "#redirect_uri = \"http://localhost:9000\""
   ]
  },
  {
   "cell_type": "code",
   "execution_count": 5,
   "id": "18173647-5a83-4cf3-8b79-6b2f697ade75",
   "metadata": {},
   "outputs": [],
   "source": [
    "client_id = \"6d1d0017a077411dbfbadd6da0a80475\"\n",
    "client_secret = \"383c621b3784424b9dd0745b26fbae65\"\n",
    "redirect_uri = \"http://localhost:9000\""
   ]
  },
  {
   "cell_type": "code",
   "execution_count": 6,
   "id": "54d88309-b17d-4c7f-80cf-27eeb401ea3c",
   "metadata": {},
   "outputs": [],
   "source": [
    "# Connect with API Keys created earlier\n",
    "sp = spotipy.Spotify(auth_manager=SpotifyOAuth(client_id=client_id,\n",
    "                                              client_secret=client_secret,\n",
    "                                              redirect_uri=redirect_uri))"
   ]
  },
  {
   "cell_type": "markdown",
   "id": "df37b346-4165-4705-8299-d80b6ccad3cf",
   "metadata": {},
   "source": [
    "Let's search for Taylor Swift in Spotify: Go to spotify.com and then look up the artist, you should see the ID in the URL."
   ]
  },
  {
   "cell_type": "code",
   "execution_count": 7,
   "id": "f6509cb0-5c9f-4177-a575-9b4c8f93e666",
   "metadata": {},
   "outputs": [],
   "source": [
    "taylor_swift = sp.artist(\"06HL4z0CvFAxyc27GXpf02\")"
   ]
  },
  {
   "cell_type": "code",
   "execution_count": 8,
   "id": "cb20fc2b-46e5-43ae-90a4-6a00a5cb8850",
   "metadata": {},
   "outputs": [],
   "source": [
    "taylor_albums = sp.artist_albums(taylor_swift['id'],album_type='album',limit=50)"
   ]
  },
  {
   "cell_type": "code",
   "execution_count": 9,
   "id": "bd77cd89-a0df-4482-871d-db87be02b303",
   "metadata": {},
   "outputs": [
    {
     "name": "stdout",
     "output_type": "stream",
     "text": [
      "Album: Midnights (3am Edition)\n",
      "Album: Midnights (3am Edition)\n",
      "Album: Midnights\n",
      "Album: Midnights\n",
      "Album: Red (Taylor's Version)\n",
      "Album: Red (Taylor's Version)\n",
      "Album: Fearless (Taylor's Version)\n",
      "Album: evermore (deluxe version)\n",
      "Album: evermore (deluxe version)\n",
      "Album: evermore\n",
      "Album: evermore\n",
      "Album: folklore: the long pond studio sessions (from the Disney+ special) [deluxe edition]\n",
      "Album: folklore: the long pond studio sessions (from the Disney+ special) [deluxe edition]\n",
      "Album: folklore (deluxe version)\n",
      "Album: folklore (deluxe version)\n",
      "Album: folklore\n",
      "Album: folklore\n",
      "Album: Lover\n",
      "Album: Taylor Swift Karaoke: reputation\n",
      "Album: reputation\n",
      "Album: reputation (Big Machine Radio Release Special)\n",
      "Album: reputation Stadium Tour Surprise Song Playlist\n",
      "Album: Taylor Swift Karaoke: 1989 (Deluxe)\n",
      "Album: 1989 (Big Machine Radio Release Special)\n",
      "Album: 1989\n",
      "Album: 1989 (Deluxe)\n",
      "Album: Red (Deluxe Edition)\n",
      "Album: Red (Big Machine Radio Release Special)\n",
      "Album: Red\n",
      "Album: Speak Now World Tour Live\n",
      "Album: Speak Now\n",
      "Album: Speak Now (Big Machine Radio Release Special)\n",
      "Album: Speak Now (Karaoke Version)\n",
      "Album: Speak Now (Deluxe Package)\n",
      "Album: Fearless (International Version)\n",
      "Album: Fearless (Big Machine Radio Release Special)\n",
      "Album: Fearless (Karaoke Version)\n",
      "Album: Fearless (Platinum Edition)\n",
      "Album: Live From Clear Channel Stripped 2008\n",
      "Album: Taylor Swift\n",
      "Album: Taylor Swift (Big Machine Radio Release Special)\n",
      "Album: Taylor Swift (Karaoke Version)\n"
     ]
    }
   ],
   "source": [
    "for album in taylor_albums['items']:\n",
    "    print(f\"Album: {album['name']}\")"
   ]
  },
  {
   "cell_type": "markdown",
   "id": "ef7771b4-19db-4b4b-a45c-d686d2ae5609",
   "metadata": {},
   "source": [
    " "
   ]
  },
  {
   "cell_type": "markdown",
   "id": "ef404e22-951e-4b3f-95cb-6e49ae5238c9",
   "metadata": {},
   "source": [
    "Now we have all the albums from Spotify. Let's remove the duplicates and other categories. "
   ]
  },
  {
   "cell_type": "code",
   "execution_count": 10,
   "id": "49819fc5-ecfc-4ebe-9c7e-e568cbec1c86",
   "metadata": {},
   "outputs": [],
   "source": [
    "album_names = []\n",
    "albums = []\n",
    "for album in taylor_albums['items']: \n",
    "    album_name = album['name']\n",
    "    if album_name[:3] not in album_names and 'remix' not in album_name and 'Karaoke' not in album_name and 'Live' not in album_name: \n",
    "        album_names.append(album_name[:3])\n",
    "        albums.append(album_name)"
   ]
  },
  {
   "cell_type": "code",
   "execution_count": 11,
   "id": "db951f69-4cde-4aa8-a3c9-5ea85e9ed430",
   "metadata": {},
   "outputs": [
    {
     "data": {
      "text/plain": [
       "['Midnights (3am Edition)',\n",
       " \"Red (Taylor's Version)\",\n",
       " \"Fearless (Taylor's Version)\",\n",
       " 'evermore (deluxe version)',\n",
       " 'folklore: the long pond studio sessions (from the Disney+ special) [deluxe edition]',\n",
       " 'Lover',\n",
       " 'reputation',\n",
       " '1989 (Big Machine Radio Release Special)',\n",
       " 'Speak Now',\n",
       " 'Taylor Swift']"
      ]
     },
     "execution_count": 11,
     "metadata": {},
     "output_type": "execute_result"
    }
   ],
   "source": [
    "albums"
   ]
  },
  {
   "cell_type": "markdown",
   "id": "af1daf3d-d6dc-4d0a-aea0-106aae32b963",
   "metadata": {},
   "source": [
    "OK, now we only have kept the albums we are interested in. "
   ]
  },
  {
   "cell_type": "markdown",
   "id": "d74fd02d-53e2-4a30-807a-f14951d8693a",
   "metadata": {},
   "source": [
    " "
   ]
  },
  {
   "cell_type": "markdown",
   "id": "3f86f3fa-6bdc-4b1d-a4dc-c5f7c5c524ab",
   "metadata": {},
   "source": [
    "Next step, we'll have to fetch the lyrics of all Taylor's songs. For that purpose, we are going to use LyricsGenius, a Python client for the Genius.com API that provides a simple interface to the song, artist, and lyrics data stored on Genius.com. \n",
    "Genius.com is a cool website. If you aren’t familiar with it, Genius hosts a bunch of song lyrics and lets users highlight and annotate passages with interpretations, explanations, and references.\n",
    "For more details, follow the link on its website: https://lyricsgenius.readthedocs.io/en/master/"
   ]
  },
  {
   "cell_type": "code",
   "execution_count": 12,
   "id": "1a7bd2df-3c1d-4678-b60b-a47372154a37",
   "metadata": {},
   "outputs": [],
   "source": [
    "# We can use pip to install lyricsgenius:\n",
    "# pip install lyricsgenius"
   ]
  },
  {
   "cell_type": "markdown",
   "id": "278b1569-4de2-4ff7-89f7-1bba1a00cc8c",
   "metadata": {},
   "source": [
    "But before using the library we need to get an access token. The setup is super easy and quick. All the instructions can be found here: https://lyricsgenius.readthedocs.io/en/master/setup.html#setup"
   ]
  },
  {
   "cell_type": "code",
   "execution_count": 13,
   "id": "7babe214-bae3-4965-9408-e87469232884",
   "metadata": {},
   "outputs": [],
   "source": [
    "# token = 'my_access_token_here'\n",
    "token = 'Uy-kcsPnpAinOhLmVTSVkJVRthCMrQa1u1IwX6GRPDe2z9BQEo1peaIReDilYEsI'"
   ]
  },
  {
   "cell_type": "code",
   "execution_count": 14,
   "id": "73c549b9-7a35-4769-aeab-2b791ec3b3c0",
   "metadata": {},
   "outputs": [],
   "source": [
    "# Now let's import our library\n",
    "from lyricsgenius import Genius"
   ]
  },
  {
   "cell_type": "markdown",
   "id": "f679fac7-4223-41c1-bcf3-eb611c662ee1",
   "metadata": {},
   "source": [
    "Let's fetch the lyrics of all the albums and save them in JSON format. This might take awhile..."
   ]
  },
  {
   "cell_type": "code",
   "execution_count": 15,
   "id": "7998ce28-60d7-4cb3-b4b9-2fb7c141524c",
   "metadata": {},
   "outputs": [
    {
     "name": "stdout",
     "output_type": "stream",
     "text": [
      "Searching for \"Midnights (3am Edition)\" by Taylor Swift...\n",
      "Wrote Lyrics_Midnights3amEdition.json.\n",
      "Searching for \"Red (Taylor's Version)\" by Taylor Swift...\n",
      "Wrote Lyrics_RedTaylorsVersion.json.\n",
      "Searching for \"Fearless (Taylor's Version)\" by Taylor Swift...\n",
      "Wrote Lyrics_FearlessTaylorsVersion.json.\n",
      "Searching for \"evermore (deluxe version)\" by Taylor Swift...\n",
      "Wrote Lyrics_evermoredeluxeversion.json.\n",
      "Searching for \"folklore: the long pond studio sessions (from the Disney+ special) [deluxe edition]\" by Taylor Swift...\n",
      "Wrote Lyrics_folklorethelongpondstudiosessionsfromtheDisneyspecialdeluxeedition.json.\n",
      "Searching for \"Lover\" by Taylor Swift...\n",
      "Wrote Lyrics_Lover.json.\n",
      "Searching for \"reputation\" by Taylor Swift...\n",
      "Wrote Lyrics_reputation.json.\n",
      "Searching for \"1989 (Big Machine Radio Release Special)\" by Taylor Swift...\n",
      "No results found for: '1989 (Big Machine Radio Release Special) Taylor Swift'\n",
      "Searching for \"Speak Now\" by Taylor Swift...\n",
      "Wrote Lyrics_SpeakNow.json.\n",
      "Searching for \"Taylor Swift\" by Taylor Swift...\n",
      "Wrote Lyrics_TaylorSwift.json.\n"
     ]
    }
   ],
   "source": [
    "genius = Genius(access_token=token,timeout=13, sleep_time=0.6)\n",
    "non_saved_albums = []\n",
    "for album in albums: \n",
    "    album_genius = genius.search_album(album, 'Taylor Swift')\n",
    "    try: \n",
    "        album_genius.save_lyrics()\n",
    "    except AttributeError:\n",
    "        non_saved_albums.append(album)"
   ]
  },
  {
   "cell_type": "code",
   "execution_count": 16,
   "id": "1229eabe-f22f-4d39-9fca-876896149b09",
   "metadata": {},
   "outputs": [
    {
     "data": {
      "text/plain": [
       "['1989 (Big Machine Radio Release Special)']"
      ]
     },
     "execution_count": 16,
     "metadata": {},
     "output_type": "execute_result"
    }
   ],
   "source": [
    "non_saved_albums"
   ]
  },
  {
   "cell_type": "markdown",
   "id": "d86d32a6-673a-4b4c-9d84-d09ea3690453",
   "metadata": {},
   "source": [
    "It seems that the album 1989 is not properly downloaded. It's a rather important album though, so let's try manually removing the text in the parenthesis. "
   ]
  },
  {
   "cell_type": "code",
   "execution_count": 17,
   "id": "24864953-cb16-4793-9c9b-0d5d94525d5c",
   "metadata": {},
   "outputs": [
    {
     "name": "stdout",
     "output_type": "stream",
     "text": [
      "Searching for \"1989\" by Taylor Swift...\n",
      "Wrote Lyrics_1989.json.\n"
     ]
    }
   ],
   "source": [
    "album_genius = genius.search_album('1989', 'Taylor Swift')\n",
    "album_genius.save_lyrics()"
   ]
  },
  {
   "cell_type": "markdown",
   "id": "5c20ab27-487a-4c05-8652-8420f7f87fe5",
   "metadata": {},
   "source": [
    "Nice, it worked! "
   ]
  },
  {
   "cell_type": "markdown",
   "id": "6d62b5b4-728a-457e-88fc-1c6506d0bbfc",
   "metadata": {},
   "source": [
    "Time to import other python libraries that we will need."
   ]
  },
  {
   "cell_type": "code",
   "execution_count": 18,
   "id": "25fcac66-5720-41ea-a15e-895f29b97200",
   "metadata": {},
   "outputs": [],
   "source": [
    "import json\n",
    "import glob\n",
    "import re\n",
    "import string\n",
    "from nltk.corpus import stopwords"
   ]
  },
  {
   "cell_type": "markdown",
   "id": "efe5202f-a4cc-4c9d-abf7-9f2661e67151",
   "metadata": {},
   "source": [
    " "
   ]
  },
  {
   "cell_type": "markdown",
   "id": "eed5d4ad-366c-4c99-b5eb-ddae586bb678",
   "metadata": {},
   "source": [
    "Create a .txt file with all the lyrics"
   ]
  },
  {
   "cell_type": "code",
   "execution_count": 19,
   "id": "fa546f7c-b149-4445-89d0-0e2f38d88902",
   "metadata": {},
   "outputs": [],
   "source": [
    "files = glob.glob(\"*.json\")"
   ]
  },
  {
   "cell_type": "code",
   "execution_count": 20,
   "id": "d95fdf2f-59da-4115-bcd3-149663eaa453",
   "metadata": {},
   "outputs": [
    {
     "data": {
      "text/plain": [
       "['Lyrics_1989.json',\n",
       " 'Lyrics_evermoredeluxeversion.json',\n",
       " 'Lyrics_FearlessTaylorsVersion.json',\n",
       " 'Lyrics_folklorethelongpondstudiosessionsfromtheDisneyspecialdeluxeedition.json',\n",
       " 'Lyrics_Lover.json',\n",
       " 'Lyrics_Midnights3amEdition.json',\n",
       " 'Lyrics_RedTaylorsVersion.json',\n",
       " 'Lyrics_reputation.json',\n",
       " 'Lyrics_SpeakNow.json',\n",
       " 'Lyrics_TaylorSwift.json']"
      ]
     },
     "execution_count": 20,
     "metadata": {},
     "output_type": "execute_result"
    }
   ],
   "source": [
    "files"
   ]
  },
  {
   "cell_type": "code",
   "execution_count": 21,
   "id": "bc522fd9-324d-4749-bf60-d09e6b536748",
   "metadata": {},
   "outputs": [],
   "source": [
    "def get_file_names(file_name): \n",
    "    return file_name[7:][:-5]"
   ]
  },
  {
   "cell_type": "code",
   "execution_count": 22,
   "id": "28429a74-29fb-4240-a0ea-52bb1208a17a",
   "metadata": {},
   "outputs": [],
   "source": [
    "files_name_only = list(map(get_file_names, files))"
   ]
  },
  {
   "cell_type": "code",
   "execution_count": 23,
   "id": "8ef9e4c9-8908-4c4a-8aa5-52a5619d3949",
   "metadata": {},
   "outputs": [
    {
     "data": {
      "text/plain": [
       "['1989',\n",
       " 'evermoredeluxeversion',\n",
       " 'FearlessTaylorsVersion',\n",
       " 'folklorethelongpondstudiosessionsfromtheDisneyspecialdeluxeedition',\n",
       " 'Lover',\n",
       " 'Midnights3amEdition',\n",
       " 'RedTaylorsVersion',\n",
       " 'reputation',\n",
       " 'SpeakNow',\n",
       " 'TaylorSwift']"
      ]
     },
     "execution_count": 23,
     "metadata": {},
     "output_type": "execute_result"
    }
   ],
   "source": [
    "files_name_only"
   ]
  },
  {
   "cell_type": "code",
   "execution_count": 24,
   "id": "a129e8ca-ba67-4751-abac-ea4b82531e89",
   "metadata": {},
   "outputs": [],
   "source": [
    "for album in files_name_only: \n",
    "    with open('Lyrics_'+album+'.json') as json_file:\n",
    "        data = json.load(json_file)\n",
    "        lyrics = []\n",
    "        for item in data['tracks']:\n",
    "            lyrics.append(item['song']['lyrics'])\n",
    "        with open('taylor_all_lyrics.txt', 'a') as f:\n",
    "            f.write('\\n'.join(lyrics))"
   ]
  },
  {
   "cell_type": "markdown",
   "id": "63905500-9848-4586-b376-85a725d4ec3d",
   "metadata": {},
   "source": [
    " "
   ]
  },
  {
   "cell_type": "markdown",
   "id": "5becb51a-6040-41ea-bff7-81da176d780b",
   "metadata": {},
   "source": [
    "Cool, Now we have one txt file with all the lyrics!"
   ]
  },
  {
   "cell_type": "markdown",
   "id": "5526fdba-3867-433e-afc2-8ebec5f83202",
   "metadata": {},
   "source": [
    "  "
   ]
  },
  {
   "cell_type": "markdown",
   "id": "e39578b0-f7ff-4534-b0db-56798ef82845",
   "metadata": {},
   "source": [
    "Let's clean our data a little bit to prepare for the final and most interesting part of finding out the most commonly used words in all of Taylor's songs. "
   ]
  },
  {
   "cell_type": "markdown",
   "id": "96ee7af7-2fcc-4a93-b9a7-e192ed044b49",
   "metadata": {},
   "source": [
    "  "
   ]
  },
  {
   "cell_type": "code",
   "execution_count": 25,
   "id": "db144e25-a48f-486e-9c3d-d3a39a32cd17",
   "metadata": {},
   "outputs": [],
   "source": [
    "with open('taylor_all_lyrics.txt') as f: \n",
    "    lines = f.read().splitlines()"
   ]
  },
  {
   "cell_type": "code",
   "execution_count": 26,
   "id": "e3347e62-8931-4ebc-9f53-14f377dd2df8",
   "metadata": {},
   "outputs": [
    {
     "data": {
      "text/plain": [
       "['TranslationsEspañolPortuguêsPolskiWelcome to New York Lyrics[Verse 1]',\n",
       " 'Walking through a crowd, the village is aglow',\n",
       " 'Kaleidoscope of loud heartbeats under coats',\n",
       " 'Everybody here wanted something more',\n",
       " \"Searching for a sound we hadn't heard before\",\n",
       " 'And it said',\n",
       " '',\n",
       " '[Chorus]',\n",
       " \"Welcome to New York, it's been waiting for you\",\n",
       " 'Welcome to New York, welcome to New York']"
      ]
     },
     "execution_count": 26,
     "metadata": {},
     "output_type": "execute_result"
    }
   ],
   "source": [
    "lines[:10]"
   ]
  },
  {
   "cell_type": "markdown",
   "id": "61f7e566-6166-49f1-81e1-82a6ea2fbd48",
   "metadata": {},
   "source": [
    " "
   ]
  },
  {
   "cell_type": "markdown",
   "id": "6cef0e9f-981d-4626-8648-aec0fa085f52",
   "metadata": {},
   "source": [
    "We notice that there are words like Verse or Chorus that we don't actually need for our analysis, so let's remove them. "
   ]
  },
  {
   "cell_type": "code",
   "execution_count": 27,
   "id": "389c5bd7-8d3e-4292-b893-d71528f641f1",
   "metadata": {},
   "outputs": [],
   "source": [
    "lyrics_str = ' '.join(map(str, lines))"
   ]
  },
  {
   "cell_type": "code",
   "execution_count": 28,
   "id": "beb55349-80c8-4b4f-b6f2-b3c4094f5f96",
   "metadata": {},
   "outputs": [],
   "source": [
    "words_to_remove = re.findall(r'\\[([^]]*)\\]', lyrics_str) # Finds the words in []\n",
    "custom_stopwords = set(words_to_remove)"
   ]
  },
  {
   "cell_type": "code",
   "execution_count": 29,
   "id": "8b437a82-cd2a-4f73-ad09-5357534e502e",
   "metadata": {},
   "outputs": [],
   "source": [
    "#custom_stopwords"
   ]
  },
  {
   "cell_type": "markdown",
   "id": "8e2930b3-3c58-44bc-8fdc-5899ca1bbf4a",
   "metadata": {},
   "source": [
    "Some more data cleaning. "
   ]
  },
  {
   "cell_type": "code",
   "execution_count": 30,
   "id": "93467e40-1b9a-4eae-912e-9d957ccb17ae",
   "metadata": {},
   "outputs": [],
   "source": [
    "def text_process(mess,custom_stopwords):\n",
    "    \"\"\"\n",
    "    Takes in a string of text, then performs the following:\n",
    "    1. Remove English stopwords\n",
    "    2. Remove all punctuation\n",
    "    3. Remove all custom stopwords\n",
    "    4. Return a list of the words we want to keep\n",
    "    \"\"\"\n",
    "    # Remove all English stopwords\n",
    "    no_stopwords = [word for word in lyrics_str.split() if word.lower() not in stopwords.words('english')]\n",
    "    no_stopwords_join = ' '.join(no_stopwords)\n",
    "    \n",
    "    # Remove all punctuation\n",
    "    nopunc = [char for char in no_stopwords_join if char not in string.punctuation]\n",
    "    nopunc = ''.join(nopunc)\n",
    "    \n",
    "    # Remove custom stopwords\n",
    "    words = [word for word in nopunc.split() if word not in custom_stopwords]\n",
    "    \n",
    "    # Return the final list of words\n",
    "    return [word for word in words if word.lower() not in stopwords.words('english')] # Removing any English stopwords again after the punctuation is gone"
   ]
  },
  {
   "cell_type": "code",
   "execution_count": 31,
   "id": "697faec5-e85e-4e66-9a40-f2c063e75583",
   "metadata": {},
   "outputs": [],
   "source": [
    "words = text_process(lyrics_str,custom_stopwords)"
   ]
  },
  {
   "cell_type": "markdown",
   "id": "123c544b-a219-4d53-a871-716d8190db12",
   "metadata": {},
   "source": [
    "Let's quickly test the result"
   ]
  },
  {
   "cell_type": "code",
   "execution_count": 32,
   "id": "f6437c2a-9903-43dd-ba64-13975779a169",
   "metadata": {},
   "outputs": [
    {
     "data": {
      "text/plain": [
       "False"
      ]
     },
     "execution_count": 32,
     "metadata": {},
     "output_type": "execute_result"
    }
   ],
   "source": [
    "'Chorus' in words"
   ]
  },
  {
   "cell_type": "code",
   "execution_count": 33,
   "id": "116de6ce-9528-4b90-88bc-138945fbaf53",
   "metadata": {},
   "outputs": [
    {
     "data": {
      "text/plain": [
       "['TranslationsEspañolPortuguêsPolskiWelcome',\n",
       " 'New',\n",
       " 'York',\n",
       " 'LyricsVerse',\n",
       " '1',\n",
       " 'Walking',\n",
       " 'crowd',\n",
       " 'village',\n",
       " 'aglow',\n",
       " 'Kaleidoscope',\n",
       " 'loud',\n",
       " 'heartbeats',\n",
       " 'coats',\n",
       " 'Everybody',\n",
       " 'wanted',\n",
       " 'something',\n",
       " 'Searching',\n",
       " 'sound',\n",
       " 'heard',\n",
       " 'said',\n",
       " 'Welcome',\n",
       " 'New',\n",
       " 'York',\n",
       " 'waiting',\n",
       " 'Welcome',\n",
       " 'New',\n",
       " 'York',\n",
       " 'welcome',\n",
       " 'New',\n",
       " 'York']"
      ]
     },
     "execution_count": 33,
     "metadata": {},
     "output_type": "execute_result"
    }
   ],
   "source": [
    "words[:30]"
   ]
  },
  {
   "cell_type": "markdown",
   "id": "b5f00d21-c043-478c-aa2b-8f4830a02067",
   "metadata": {},
   "source": [
    " "
   ]
  },
  {
   "cell_type": "markdown",
   "id": "e3706592-86eb-40e6-9f8d-119d3a6594f1",
   "metadata": {},
   "source": [
    "OK, seems that the numbers of the Verses have remained, along with the translation languages. "
   ]
  },
  {
   "cell_type": "code",
   "execution_count": 34,
   "id": "1aa00832-2a07-4741-a377-1ba70e986fc4",
   "metadata": {},
   "outputs": [],
   "source": [
    "# Final cleaning\n",
    "words = [word for word in words if word not in list(map(str,list(range(10)))) and len(word)<35 and word!='lyricsverse'] "
   ]
  },
  {
   "cell_type": "markdown",
   "id": "a8a365e6-2bca-4d3c-a666-1b913eabede1",
   "metadata": {},
   "source": [
    " "
   ]
  },
  {
   "cell_type": "markdown",
   "id": "9ccb985f-5768-474e-a356-068e696e0898",
   "metadata": {},
   "source": [
    "Sweet! Now we can finally search for the most commonly used words. Let's see whether there are any surprises..."
   ]
  },
  {
   "cell_type": "markdown",
   "id": "a91fdf5d-aedd-4e70-bae0-ff78eb32c171",
   "metadata": {},
   "source": [
    " "
   ]
  },
  {
   "cell_type": "code",
   "execution_count": 35,
   "id": "2bd8166a-554d-4545-b54a-376e4f5f652c",
   "metadata": {},
   "outputs": [
    {
     "name": "stdout",
     "output_type": "stream",
     "text": [
      "Top-5:\n",
      "im -- with 631 occurencies\n",
      "like -- with 608 occurencies\n",
      "know -- with 561 occurencies\n",
      "oh -- with 547 occurencies\n",
      "never -- with 434 occurencies\n"
     ]
    }
   ],
   "source": [
    "from collections import Counter\n",
    "Counter = Counter(list(map(str.lower, words)))\n",
    "most_occur = Counter.most_common(5)\n",
    "print('Top-5:')\n",
    "for word,i in enumerate(range(len(most_occur))): \n",
    "    print(f\"{most_occur[i][0]} -- with {most_occur[i][1]} occurencies\")"
   ]
  },
  {
   "cell_type": "markdown",
   "id": "f90c0442-5040-46ce-accf-ed83e14aae4b",
   "metadata": {},
   "source": [
    " "
   ]
  }
 ],
 "metadata": {
  "kernelspec": {
   "display_name": "Python 3 (ipykernel)",
   "language": "python",
   "name": "python3"
  },
  "language_info": {
   "codemirror_mode": {
    "name": "ipython",
    "version": 3
   },
   "file_extension": ".py",
   "mimetype": "text/x-python",
   "name": "python",
   "nbconvert_exporter": "python",
   "pygments_lexer": "ipython3",
   "version": "3.9.13"
  }
 },
 "nbformat": 4,
 "nbformat_minor": 5
}
